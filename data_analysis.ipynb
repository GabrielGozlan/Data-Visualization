{
 "cells": [
  {
   "cell_type": "code",
   "execution_count": 37,
   "metadata": {},
   "outputs": [],
   "source": [
    "import pandas as pd \n",
    "\n"
   ]
  },
  {
   "cell_type": "code",
   "execution_count": 47,
   "metadata": {},
   "outputs": [
    {
     "name": "stdout",
     "output_type": "stream",
     "text": [
      "Empty DataFrame\n",
      "Columns: [year, country, firstname, lastname, problem1, problem2, problem3, problem4, problem5, problem6, total, rank, award]\n",
      "Index: []\n",
      "Empty DataFrame\n",
      "Columns: [year, country, firstname, lastname, problem1, problem2, problem3, problem4, problem5, problem6, total, rank, award]\n",
      "Index: []\n",
      "Empty DataFrame\n",
      "Columns: [year, country, firstname, lastname, problem1, problem2, problem3, problem4, problem5, problem6, total, rank, award]\n",
      "Index: []\n",
      "Empty DataFrame\n",
      "Columns: [year, country, firstname, lastname, problem1, problem2, problem3, problem4, problem5, problem6, total, rank, award]\n",
      "Index: []\n",
      "       year  country     firstname     lastname  problem1  problem2  problem3  \\\n",
      "14220  2017     Iran   Amirmojtaba       Sabour       7.0       7.0       0.0   \n",
      "14221  2017    Japan          Yuta       Takaya       7.0       7.0       0.0   \n",
      "14222  2017  Vietnam  Hữu Quốc Huy        Hoàng       7.0       7.0       0.0   \n",
      "14223  2017    China         Qiuyu          Ren       7.0       7.0       0.0   \n",
      "14224  2017  Georgia    Aleksandre  Saatashvili       7.0       7.0       0.0   \n",
      "...     ...      ...           ...          ...       ...       ...       ...   \n",
      "14830  2017    Kenya   Beracah May     Nyang'Or       0.0       0.0       0.0   \n",
      "14831  2017  Myanmar   Wai Yan Moe         Lwin       0.0       0.0       0.0   \n",
      "14832  2017    Nepal       Awanish       Khanal       0.0       0.0       0.0   \n",
      "14833  2017    Nepal         Bivek       Panthi       0.0       0.0       0.0   \n",
      "14834  2017    Nepal     Prashanna     Shrestha       0.0       0.0       0.0   \n",
      "\n",
      "       problem4  problem5  problem6  total  rank       award  \n",
      "14220       7.0       7.0       7.0     35     1  Gold medal  \n",
      "14221       7.0       7.0       7.0     35     1  Gold medal  \n",
      "14222       7.0       7.0       7.0     35     1  Gold medal  \n",
      "14223       7.0       7.0       4.0     32     4  Gold medal  \n",
      "14224       7.0       7.0       3.0     31     5  Gold medal  \n",
      "...         ...       ...       ...    ...   ...         ...  \n",
      "14830       0.0       0.0       0.0      0   604         NaN  \n",
      "14831       0.0       0.0       0.0      0   604         NaN  \n",
      "14832       0.0       0.0       0.0      0   604         NaN  \n",
      "14833       0.0       0.0       0.0      0   604         NaN  \n",
      "14834       0.0       0.0       0.0      0   604         NaN  \n",
      "\n",
      "[615 rows x 13 columns]\n"
     ]
    }
   ],
   "source": [
    "\n",
    "imo = pd.read_csv('data/imo_results2.csv')\n",
    "\n",
    "def do():\n",
    "    for year in range(1984, 2017+1):\n",
    "        df = pd.read_csv(f'data/mapslider2/world-data-{year}.csv')\n",
    "        imo_year = imo[imo['year'] == year]\n",
    "        df['GDP'] = df['GDP'].apply(lambda x: round(x, 2))\n",
    "        for country in df['Country']:\n",
    "            country_data = imo_year[imo_year['country'] == country]\n",
    "            \n",
    "            if country_data.empty:\n",
    "                if country == 'South Korea':\n",
    "                    print(country_data)\n",
    "                df.loc[df['Country']==country, 'info'] = 'N/A'\n",
    "            else:\n",
    "                info = ''\n",
    "                for i, entry in country_data.iterrows():\n",
    "                    try:\n",
    "                        contestant = entry['firstname'] + ' ' + entry['lastname']\n",
    "                    except:\n",
    "                        contestant = f\"Contestant {i+1}\"\n",
    "                    total_points = entry['total']\n",
    "                    contestant_rank = entry['rank']\n",
    "                    contestant_award = entry['award']\n",
    "                    info += f'{contestant},{total_points},{contestant_rank},{contestant_award};'\n",
    "                info = info[:-1]\n",
    "                df.loc[df['Country']==country, 'info'] = info\n",
    "\n",
    "            # print(country_data)\n",
    "            #     for i, entry in country_data.iterrows():\n",
    "            #         print(entry)\n",
    "            #         break\n",
    "            #     break\n",
    "            # break\n",
    "            \n",
    "        df.to_csv(f'data/mapslider2/world-data-{year}.csv', index=False)\n",
    "\n",
    "    print(imo_year)\n",
    "\n",
    "do()"
   ]
  }
 ],
 "metadata": {
  "kernelspec": {
   "display_name": "Python 3",
   "language": "python",
   "name": "python3"
  },
  "language_info": {
   "codemirror_mode": {
    "name": "ipython",
    "version": 3
   },
   "file_extension": ".py",
   "mimetype": "text/x-python",
   "name": "python",
   "nbconvert_exporter": "python",
   "pygments_lexer": "ipython3",
   "version": "3.11.7"
  }
 },
 "nbformat": 4,
 "nbformat_minor": 2
}
